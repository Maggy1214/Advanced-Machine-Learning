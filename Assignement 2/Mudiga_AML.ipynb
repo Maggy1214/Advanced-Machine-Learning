{
  "cells": [
    {
      "cell_type": "markdown",
      "source": [
        "**Assignment** **1-Neural Networks**"
      ],
      "metadata": {
        "id": "nbh6MgN_7TgM"
      }
    },
    {
      "cell_type": "markdown",
      "source": [
        "**Classification of Movie Reviews: A binary Classification Problem.**"
      ],
      "metadata": {
        "id": "5FgwgtSc86C0"
      }
    },
    {
      "cell_type": "markdown",
      "source": [
        "**Problem Statement:**\n",
        "Using Neural Networks, classify a movie review as favorable or negative."
      ],
      "metadata": {
        "id": "C9hFo1Am9doK"
      }
    },
    {
      "cell_type": "code",
      "execution_count": 1,
      "metadata": {
        "id": "Igxhw6Tx2uXp",
        "colab": {
          "base_uri": "https://localhost:8080/"
        },
        "outputId": "e7616bc2-eaad-4658-8a1e-761b64ff3e16"
      },
      "outputs": [
        {
          "output_type": "execute_result",
          "data": {
            "text/plain": [
              "9999"
            ]
          },
          "metadata": {},
          "execution_count": 1
        }
      ],
      "source": [
        "# Importing the IMDB Dataset.\n",
        "from tensorflow.keras.datasets import imdb\n",
        "(train_data, train_labels), (test_data, test_labels) = imdb.load_data(\n",
        "    num_words=10000)\n",
        "train_data[0]\n",
        "train_labels[0]\n",
        "max([max(sequence) for sequence in train_data])"
      ]
    },
    {
      "cell_type": "code",
      "execution_count": 2,
      "metadata": {
        "id": "aLPDSIEZ3vbA"
      },
      "outputs": [],
      "source": [
        "# Decoding reviews back to text.\n",
        "# Load the dictionary mappings from the word to the integer index.\n",
        "word_index = imdb.get_word_index()\n",
        "# Word index to integer mapping in reverse.\n",
        "reverse_word_index = dict(\n",
        "    [(value, key) for (key, value) in word_index.items()])\n",
        "# Decode the review, mapping integer to words.\n",
        "decoded_review = \" \".join(\n",
        "    [reverse_word_index.get(i - 3, \"?\") for i in train_data[0]])"
      ]
    },
    {
      "cell_type": "markdown",
      "source": [
        "**Preparing the data:**\n",
        "Using multi-hot encoding, the lists are turned into vectors of 0s and 1s. Each review is represented by a 10000-dimensional vector with dimension set to 10000.\n",
        "\n",
        "\n"
      ],
      "metadata": {
        "id": "DI-h08Qx_Avk"
      }
    },
    {
      "cell_type": "code",
      "execution_count": 3,
      "metadata": {
        "id": "eE7JQ9tr33r-"
      },
      "outputs": [],
      "source": [
        "# The integer sequences are encoded using multi-hot encoding.\n",
        "import numpy as np\n",
        "def vectorize_sequences(sequences, dimension=10000):\n",
        "    results = np.zeros((len(sequences), dimension))\n",
        "    for i, sequence in enumerate(sequences):\n",
        "        for j in sequence:\n",
        "            results[i, j] = 1.\n",
        "    return results\n",
        "x_train = vectorize_sequences(train_data)\n",
        "x_test = vectorize_sequences(test_data)\n",
        "x_train[0]\n",
        "y_train = np.asarray(train_labels).astype(\"float32\")\n",
        "y_test = np.asarray(test_labels).astype(\"float32\")"
      ]
    },
    {
      "cell_type": "markdown",
      "source": [
        "**MODEL BUILDING**"
      ],
      "metadata": {
        "id": "bZIsFDUd_6R8"
      }
    },
    {
      "cell_type": "markdown",
      "source": [
        "**Model's Architecture** \n",
        "\n",
        "1. We are using the Keras library for this classification assignment.\n",
        "2. The first two hidden layers each include 16 nodes with an activation function of **ReLU** (the activation function is changed to **tanh** to explore how different activation functions impact the validity and test set accuracy).\n",
        "3. The third layer is the output layer, which uses a sigmoid function.\n",
        "\n",
        "\n",
        "\n",
        "\n",
        "\n",
        "\n",
        "\n",
        "\n",
        "\n",
        "\n",
        "\n",
        "\n"
      ],
      "metadata": {
        "id": "zgcPqoNtBdDT"
      }
    },
    {
      "cell_type": "code",
      "execution_count": 4,
      "metadata": {
        "id": "xAoFrBNG4cHU"
      },
      "outputs": [],
      "source": [
        "from tensorflow import keras\n",
        "from tensorflow.keras.layers  import Dropout\n",
        "from keras import layers\n",
        "model = keras.Sequential([\n",
        "    layers.Dense(64, activation=\"tanh\"),\n",
        "Dropout(0.5),\n",
        "    layers.Dense(32, activation=\"tanh\"),\n",
        "  Dropout(0.5),\n",
        "     layers.Dense(32, activation=\"tanh\"),\n",
        "     layers.Dense(1, activation=\"sigmoid\")\n",
        "])"
      ]
    },
    {
      "cell_type": "markdown",
      "source": [
        "**Model Compiling**\n",
        "\n",
        "The model is compiled using the following functions:\n",
        "1. The rmsprop optimizer is employed.\n",
        "2. Because this is a binary classification issue, the loss function is binary crossentropy.\n",
        "3. Accuracy is the performance metric.\n",
        "\n",
        "\n",
        "\n",
        "\n"
      ],
      "metadata": {
        "id": "_t1KmwZjDaie"
      }
    },
    {
      "cell_type": "code",
      "execution_count": 5,
      "metadata": {
        "id": "VpawJ5Lq4ojB"
      },
      "outputs": [],
      "source": [
        "model.compile(optimizer=\"rmsprop\",\n",
        "              loss=\"mse\",\n",
        "              metrics=[\"accuracy\"])\n"
      ]
    },
    {
      "cell_type": "markdown",
      "source": [
        "**Partitioning the data into Training and Validation set.**\n",
        "\n",
        "A subset of the data is being held back to validate the model's performance. Validation is used to fine-tune the hyperparameters and determine the optimal value. In most cases, we adjust the hyperparameter value in the training set before testing the model on the validation set. This hyperparameter change is performed until the best possible accuracy is obtained. (In our circumstance, we are judging the model's performance by Accuracy).\n",
        "\n"
      ],
      "metadata": {
        "id": "ywYAhLRWFONQ"
      }
    },
    {
      "cell_type": "code",
      "execution_count": 6,
      "metadata": {
        "id": "9zjrZL8d44kv"
      },
      "outputs": [],
      "source": [
        "x_validation  = x_train[:10000]\n",
        "partial_x_train = x_train[10000:]\n",
        "y_validation = y_train[:10000]\n",
        "partial_y_train = y_train[10000:]"
      ]
    },
    {
      "cell_type": "markdown",
      "source": [
        "**Training the Model**\n",
        "\n",
        "I start by training the model in 20-epoch batches with 512 samples. Following that, the number of epochs is adjusted based on the loss function and accuracy."
      ],
      "metadata": {
        "id": "uRYe65eBGabJ"
      }
    },
    {
      "cell_type": "code",
      "execution_count": 7,
      "metadata": {
        "id": "c5_HUJmL4-YP",
        "colab": {
          "base_uri": "https://localhost:8080/"
        },
        "outputId": "ad0711f5-1891-4ef5-8daf-8fb02b79d9bd"
      },
      "outputs": [
        {
          "output_type": "stream",
          "name": "stdout",
          "text": [
            "Epoch 1/20\n",
            "30/30 [==============================] - 4s 100ms/step - loss: 0.1765 - accuracy: 0.7405 - val_loss: 0.1069 - val_accuracy: 0.8553\n",
            "Epoch 2/20\n",
            "30/30 [==============================] - 3s 97ms/step - loss: 0.0994 - accuracy: 0.8703 - val_loss: 0.0887 - val_accuracy: 0.8787\n",
            "Epoch 3/20\n",
            "30/30 [==============================] - 2s 77ms/step - loss: 0.0753 - accuracy: 0.9017 - val_loss: 0.1021 - val_accuracy: 0.8597\n",
            "Epoch 4/20\n",
            "30/30 [==============================] - 2s 67ms/step - loss: 0.0663 - accuracy: 0.9143 - val_loss: 0.1027 - val_accuracy: 0.8654\n",
            "Epoch 5/20\n",
            "30/30 [==============================] - 2s 67ms/step - loss: 0.0604 - accuracy: 0.9217 - val_loss: 0.0878 - val_accuracy: 0.8866\n",
            "Epoch 6/20\n",
            "30/30 [==============================] - 2s 68ms/step - loss: 0.0536 - accuracy: 0.9326 - val_loss: 0.0944 - val_accuracy: 0.8803\n",
            "Epoch 7/20\n",
            "30/30 [==============================] - 2s 67ms/step - loss: 0.0493 - accuracy: 0.9381 - val_loss: 0.0935 - val_accuracy: 0.8815\n",
            "Epoch 8/20\n",
            "30/30 [==============================] - 3s 115ms/step - loss: 0.0425 - accuracy: 0.9472 - val_loss: 0.0988 - val_accuracy: 0.8779\n",
            "Epoch 9/20\n",
            "30/30 [==============================] - 2s 67ms/step - loss: 0.0416 - accuracy: 0.9482 - val_loss: 0.1085 - val_accuracy: 0.8681\n",
            "Epoch 10/20\n",
            "30/30 [==============================] - 2s 62ms/step - loss: 0.0375 - accuracy: 0.9547 - val_loss: 0.0965 - val_accuracy: 0.8829\n",
            "Epoch 11/20\n",
            "30/30 [==============================] - 2s 59ms/step - loss: 0.0347 - accuracy: 0.9575 - val_loss: 0.0978 - val_accuracy: 0.8803\n",
            "Epoch 12/20\n",
            "30/30 [==============================] - 2s 67ms/step - loss: 0.0332 - accuracy: 0.9595 - val_loss: 0.1012 - val_accuracy: 0.8776\n",
            "Epoch 13/20\n",
            "30/30 [==============================] - 2s 61ms/step - loss: 0.0324 - accuracy: 0.9614 - val_loss: 0.1190 - val_accuracy: 0.8607\n",
            "Epoch 14/20\n",
            "30/30 [==============================] - 3s 117ms/step - loss: 0.0285 - accuracy: 0.9657 - val_loss: 0.1035 - val_accuracy: 0.8759\n",
            "Epoch 15/20\n",
            "30/30 [==============================] - 2s 62ms/step - loss: 0.0272 - accuracy: 0.9677 - val_loss: 0.1048 - val_accuracy: 0.8766\n",
            "Epoch 16/20\n",
            "30/30 [==============================] - 2s 68ms/step - loss: 0.0239 - accuracy: 0.9722 - val_loss: 0.1095 - val_accuracy: 0.8724\n",
            "Epoch 17/20\n",
            "30/30 [==============================] - 2s 68ms/step - loss: 0.0244 - accuracy: 0.9711 - val_loss: 0.1149 - val_accuracy: 0.8691\n",
            "Epoch 18/20\n",
            "30/30 [==============================] - 2s 66ms/step - loss: 0.0230 - accuracy: 0.9731 - val_loss: 0.1106 - val_accuracy: 0.8724\n",
            "Epoch 19/20\n",
            "30/30 [==============================] - 2s 62ms/step - loss: 0.0235 - accuracy: 0.9723 - val_loss: 0.1106 - val_accuracy: 0.8718\n",
            "Epoch 20/20\n",
            "30/30 [==============================] - 3s 98ms/step - loss: 0.0213 - accuracy: 0.9750 - val_loss: 0.1130 - val_accuracy: 0.8712\n"
          ]
        }
      ],
      "source": [
        "history = model.fit(partial_x_train,\n",
        "                   partial_y_train,\n",
        "                   epochs=20,\n",
        "                   batch_size=512,\n",
        "                   validation_data=(x_validation, y_validation))\n"
      ]
    },
    {
      "cell_type": "code",
      "execution_count": 8,
      "metadata": {
        "colab": {
          "base_uri": "https://localhost:8080/"
        },
        "id": "P2wJSOyE5UBv",
        "outputId": "1d2b0287-f047-4d1c-9b4a-6e3a494afcee"
      },
      "outputs": [
        {
          "output_type": "execute_result",
          "data": {
            "text/plain": [
              "dict_keys(['loss', 'accuracy', 'val_loss', 'val_accuracy'])"
            ]
          },
          "metadata": {},
          "execution_count": 8
        }
      ],
      "source": [
        "history_dict = history.history\n",
        "history_dict.keys()"
      ]
    },
    {
      "cell_type": "code",
      "execution_count": 9,
      "metadata": {
        "id": "_UA4yFcR5rbW",
        "colab": {
          "base_uri": "https://localhost:8080/",
          "height": 295
        },
        "outputId": "29ce62f7-2054-4d78-93ee-5294ad769ff3"
      },
      "outputs": [
        {
          "output_type": "display_data",
          "data": {
            "text/plain": [
              "<Figure size 432x288 with 1 Axes>"
            ],
            "image/png": "[encoded data removed]"
          },
          "metadata": {
            "needs_background": "light"
          }
        }
      ],
      "source": [
        "#Plotting the Validation loss.\n",
        "import matplotlib.pyplot as plt\n",
        "history_dict = history.history\n",
        "loss_values = history_dict[\"loss\"]\n",
        "val_loss_values = history_dict[\"val_loss\"]\n",
        "epochs = range(1, len(loss_values) + 1)\n",
        "plt.plot(epochs, loss_values, \"red\", label=\"Training loss\")\n",
        "plt.plot(epochs, val_loss_values, \"black\", label=\"Validation loss\")\n",
        "plt.title(\"Training and validation loss\")\n",
        "plt.xlabel(\"Epochs\")\n",
        "plt.ylabel(\"Loss\")\n",
        "plt.legend()\n",
        "plt.show()"
      ]
    },
    {
      "cell_type": "code",
      "execution_count": 10,
      "metadata": {
        "id": "-PbhEfXp53TP",
        "colab": {
          "base_uri": "https://localhost:8080/",
          "height": 295
        },
        "outputId": "c51f216b-f7af-4071-92f4-1fd43c7f7d77"
      },
      "outputs": [
        {
          "output_type": "display_data",
          "data": {
            "text/plain": [
              "<Figure size 432x288 with 1 Axes>"
            ],
            "image/png": "[encoded data removed]"
          },
          "metadata": {
            "needs_background": "light"
          }
        }
      ],
      "source": [
        "#Plotting the training and validation accuracy.\n",
        "plt.clf()\n",
        "acc = history_dict[\"accuracy\"]\n",
        "val_acc = history_dict[\"val_accuracy\"]\n",
        "plt.plot(epochs, acc, \"red\", label=\"Training acc\")\n",
        "plt.plot(epochs, val_acc, \"black\", label=\"Validation acc\")\n",
        "plt.title(\"Training and validation accuracy\")\n",
        "plt.xlabel(\"Epochs\")\n",
        "plt.ylabel(\"Accuracy\")\n",
        "plt.legend()\n",
        "plt.show()"
      ]
    },
    {
      "cell_type": "markdown",
      "source": [
        "We can see from the charts above that the smallest validation loss and maximum accuracy are reached roughly at 2 epochs (less than 2.5 according to the plots.) After 2.5 epochs, the accuracy on the training data improves but the accuracy on the validation data decreases. This implies that after 2.5 epochs, the model is overfitted.\n",
        "To reduce model overfitting, 2 epochs are chosen as the ideal number of epochs.From the above plots,\n",
        "\n",
        "We can observe that the minimum validation loss and maximum accuracy is obtained nearly at 2 epochs(less than 2.5 according to the plots.)\n",
        "After 2.5 epochs, the accuracy on the training data is improving whereas the accuracy on the Validation data is decreasing. This means that after 2.5 epochs, model is overfitted.\n",
        "\n",
        "\n",
        "To decrease model's overfitting, 2 epochs is chosen as optimal number of epochs."
      ],
      "metadata": {
        "id": "obF7UXYfH8lL"
      }
    },
    {
      "cell_type": "code",
      "execution_count": 11,
      "metadata": {
        "colab": {
          "base_uri": "https://localhost:8080/"
        },
        "id": "Wip1NuI82Ogq",
        "outputId": "7fca66d8-e37d-4295-9560-f194860a81d3"
      },
      "outputs": [
        {
          "output_type": "stream",
          "name": "stdout",
          "text": [
            "Epoch 1/2\n",
            "30/30 [==============================] - 2s 81ms/step - loss: 0.0203 - accuracy: 0.9763 - val_loss: 0.1111 - val_accuracy: 0.8740\n",
            "Epoch 2/2\n",
            "30/30 [==============================] - 2s 64ms/step - loss: 0.0185 - accuracy: 0.9785 - val_loss: 0.1129 - val_accuracy: 0.8715\n"
          ]
        }
      ],
      "source": [
        "#Training the model\n",
        "history = model.fit(partial_x_train,\n",
        "                    partial_y_train,\n",
        "                    epochs=2,\n",
        "                    batch_size=512,\n",
        "                    validation_data=(x_validation, y_validation))"
      ]
    },
    {
      "cell_type": "markdown",
      "source": [
        "The accuracy of the model on Validation set is 87.40 and 87.15 on each epoch respectively."
      ],
      "metadata": {
        "id": "rakTrkZWL_8V"
      }
    },
    {
      "cell_type": "code",
      "execution_count": 12,
      "metadata": {
        "colab": {
          "base_uri": "https://localhost:8080/"
        },
        "id": "ZxQF8Be8EpO2",
        "outputId": "9f10873b-cf44-475e-8d8d-33b596486b08"
      },
      "outputs": [
        {
          "output_type": "stream",
          "name": "stdout",
          "text": [
            "Epoch 1/2\n",
            "49/49 [==============================] - 4s 36ms/step - loss: 0.1503 - accuracy: 0.8150\n",
            "Epoch 2/2\n",
            "49/49 [==============================] - 1s 27ms/step - loss: 0.0636 - accuracy: 0.9225\n",
            "782/782 [==============================] - 2s 3ms/step - loss: 0.0848 - accuracy: 0.8848\n"
          ]
        },
        {
          "output_type": "execute_result",
          "data": {
            "text/plain": [
              "[0.08481311798095703, 0.8848000168800354]"
            ]
          },
          "metadata": {},
          "execution_count": 12
        }
      ],
      "source": [
        "#Testing on test data\n",
        "model = keras.Sequential([\n",
        "    layers.Dense(16, activation=\"relu\"),\n",
        "    layers.Dense(16, activation=\"tanh\"),\n",
        "        layers.Dense(16, activation=\"tanh\"),\n",
        "\n",
        "    layers.Dense(1, activation=\"sigmoid\")\n",
        "])\n",
        "model.compile(optimizer=\"adam\",\n",
        "              loss=\"mse\",\n",
        "              metrics=[\"accuracy\"])\n",
        "model.fit(x_train, y_train, epochs=2, batch_size=512)\n",
        "results = model.evaluate(x_test, y_test)\n",
        "results"
      ]
    },
    {
      "cell_type": "markdown",
      "source": [
        "The accuracy is 88.48 after installing the model on the Test data (unseen data)."
      ],
      "metadata": {
        "id": "n89UlB02MOac"
      }
    },
    {
      "cell_type": "markdown",
      "source": [
        "**Dropout technique**\n",
        "\n",
        "The Dropout method is being utilized to improve the accuracy of the model on Validation and Test data.\n",
        "\n",
        "This method has one dropout layer with a dropout value of 10%. This dropout percentage amount will randomly remove 10% of the nodes between the layers, ensuring that the model captures just the key properties and ignores noise (if any).\n",
        "\n",
        "After experimenting with various node counts (16,32,64,128 and so on), the number of nodes in each layer is fixed at 20 since the accuracy is greater at 20 nodes. Similarly, I examined the performance of the model with fewer and more nodes (the results are presented in the summary sheet/reports).\n",
        "\n",
        "For improved model performance, I employed both ReLU and tanh activation functions."
      ],
      "metadata": {
        "id": "qcsz9eEyMqCj"
      }
    },
    {
      "cell_type": "code",
      "execution_count": 13,
      "metadata": {
        "id": "-wSoOyP8Zjc-"
      },
      "outputs": [],
      "source": [
        "#Dropouts\n",
        "from keras import regularizers\n",
        "from tensorflow import keras\n",
        "from tensorflow.keras import layers\n",
        "from tensorflow.keras import Sequential\n",
        "from tensorflow.keras import models\n",
        "dpt_model = models.Sequential()\n",
        "dpt_model.add(layers.Dense(20, activation='relu', input_shape=(10000,)))\n",
        "dpt_model.add(layers.Dropout(0.1))\n",
        "dpt_model.add(layers.Dense(20, activation='tanh', input_shape=(10000,)))\n",
        "dpt_model.add(layers.Dense(1, activation='sigmoid'))"
      ]
    },
    {
      "cell_type": "code",
      "source": [
        "#Re-training the model on 2 epochs after implementing Dropout technique:\n",
        "history = model.fit(partial_x_train,\n",
        "                    partial_y_train,\n",
        "                    epochs=2,\n",
        "                    batch_size=512,\n",
        "                    validation_data=(x_validation, y_validation))"
      ],
      "metadata": {
        "colab": {
          "base_uri": "https://localhost:8080/"
        },
        "id": "6t_z1UQsOhKy",
        "outputId": "ac7cbba4-7032-4213-ffcb-a7bc8748aa7c"
      },
      "execution_count": 14,
      "outputs": [
        {
          "output_type": "stream",
          "name": "stdout",
          "text": [
            "Epoch 1/2\n",
            "30/30 [==============================] - 2s 58ms/step - loss: 0.0419 - accuracy: 0.9519 - val_loss: 0.0434 - val_accuracy: 0.9475\n",
            "Epoch 2/2\n",
            "30/30 [==============================] - 1s 39ms/step - loss: 0.0289 - accuracy: 0.9707 - val_loss: 0.0497 - val_accuracy: 0.9372\n"
          ]
        }
      ]
    },
    {
      "cell_type": "markdown",
      "source": [
        "The validation accuracy improves significantly after employing the Dropout approach, which is 94.75 and 93.72 on each epoch. This is a 6% improvement after employing the Dropout approach."
      ],
      "metadata": {
        "id": "57x1kiLjO19v"
      }
    },
    {
      "cell_type": "code",
      "source": [
        "# Retesting the model\n",
        "model = keras.Sequential([\n",
        "    layers.Dense(16, activation=\"relu\"),\n",
        "    layers.Dense(16, activation=\"tanh\"),\n",
        "        layers.Dense(16, activation=\"tanh\"),\n",
        "    layers.Dense(1, activation=\"sigmoid\")\n",
        "])\n",
        "model.compile(optimizer=\"adam\",\n",
        "              loss=\"binary_crossentropy\",\n",
        "              metrics=[\"accuracy\"])\n",
        "model.fit(x_train, y_train, epochs=2, batch_size=512)\n",
        "results = model.evaluate(x_test, y_test)\n",
        "results"
      ],
      "metadata": {
        "colab": {
          "base_uri": "https://localhost:8080/"
        },
        "id": "qq2pjpp8PPSi",
        "outputId": "9b55f209-46dc-48d6-fb08-e600a4c88d72"
      },
      "execution_count": 15,
      "outputs": [
        {
          "output_type": "stream",
          "name": "stdout",
          "text": [
            "Epoch 1/2\n",
            "49/49 [==============================] - 3s 29ms/step - loss: 0.4503 - accuracy: 0.8195\n",
            "Epoch 2/2\n",
            "49/49 [==============================] - 1s 28ms/step - loss: 0.2134 - accuracy: 0.9215\n",
            "782/782 [==============================] - 2s 3ms/step - loss: 0.2870 - accuracy: 0.8829\n"
          ]
        },
        {
          "output_type": "execute_result",
          "data": {
            "text/plain": [
              "[0.28701096773147583, 0.8829200267791748]"
            ]
          },
          "metadata": {},
          "execution_count": 15
        }
      ]
    },
    {
      "cell_type": "markdown",
      "source": [
        "We can observe that employing the Dropout approach reduces the accuracy to 88.29 from 88.48."
      ],
      "metadata": {
        "id": "fqibOd1nPbQf"
      }
    },
    {
      "cell_type": "markdown",
      "source": [
        "**Process**"
      ],
      "metadata": {
        "id": "nDja_R4toSvo"
      }
    },
    {
      "cell_type": "markdown",
      "source": [
        "**Input data directly proportional to accuracy**\n",
        "\n",
        "1. Based on current model performance, validation accuracy appears to have achieved a plateau after a few epochs. In addition to regularization procedures, we can try varying the number of input units to see how it affects the model's learning capacity.\n",
        "\n",
        "2. The first hidden layer in the current model has 16 units. We increased the hidden layer units to 32 and 64 to examine how it influenced the validation accuracy.\n",
        "\n",
        "3. In this scenario, increasing the number of input units from 16 to 32 increased the model's validation accuracy by 0.01. Nevertheless, this improvement was minimal in contrast to the increase in the number of model parameters, which increased the danger of overfitting."
      ],
      "metadata": {
        "id": "5zBFuyTBUjXe"
      }
    },
    {
      "cell_type": "markdown",
      "source": [
        "1. To begin, we used a network model with two hidden layers instead of just one. The model's performance metrics (loss and accuracy) fluctuate with each epoch.\n",
        "\n",
        "2. When compared to a model with only one hidden layer, adding another hidden layer allows the model to learn more complex data representations. This might lead to better validation set performance. In contrast, having too many hidden layers may result in overfitting, in which the model memorizes the training data too well and performs poorly on fresh data. A balance between model complexity and performance must be established.\n",
        "\n",
        "3. According on the performance metrics, the model looks to be doing well on both the training and validation sets, with a final validation accuracy of 0.9372. Yet, there is a modest increase in validation loss at the end of training, which may indicate overfitting. To avoid overfitting, measures such as dropout or regularization may be worth investigating.\n",
        "\n",
        "4. The accuracy has decreased as a result of changing the loss function to mse, however this is to be expected because the loss function and the accuracy metric are not directly related. The model optimizes for mean squared error rather than binary cross-entropy loss. Yet, it is a valid method that, depending on the issue and data, may outperform binary cross-entropy.\n",
        "\n",
        "5. While utilizing the mean squared error (MSE) loss function for regression difficulties may be more suitable, it does not always improve model performance. That appears to have lowered the model's accuracy in this case.\n",
        "As a result, I would stick with the binary crossentropy loss function in this case.\n",
        "\n",
        "6. In the given code, the tanh activation function was utilized to train a neural network model for a binary classification task. Throughout the 20-epoch training period, the validation accuracy and loss were tracked for each epoch.\n",
        "\n",
        "7. The tanh (hyperbolic tangent) function is a symmetric activation function that converts -1 to 1. Because the tanh function returns 0 at its mean, it is useful for normalizing input values.\n",
        "\n",
        "8. Overall, the tanh activation function looks to perform very well for the present binary classification task, while more testing with different activation functions and hyperparameters may help improve performance.\n",
        "\n",
        "9. This looks to be the outcome of a neural network model trained using the dropout method.\n",
        "\n",
        "10. Dropout is a technique used in neural networks to reduce overfitting. During training, Dropout randomly removes (i.e., sets to zero) a portion of the neurons in the network. This prevents any one neuron from having a large impact on the model and encourages the network to develop more resilient features.\n",
        "\n",
        "11. Looking at the training output, we can see that the model was trained for 20 epochs, and that the accuracy on the training set increased as the epochs progressed, indicating that the model improved its fit to the training data. On the other hand, the model's accuracy on the validation set remained pretty stable, showing that it was not overfitting.\n",
        "\n",
        "12. This is most likely because the model employs dropout. Dropout keeps any one neuron from becoming very prominent in the model, reducing overfitting.\n",
        "\n",
        "13. To recap, the output seen above is most likely the outcome of a neural network model trained using the dropout approach to avoid overfitting. Because of the use of dropout, the model performed well on the validation set while avoiding overfitting to the training data."
      ],
      "metadata": {
        "id": "LPV-0jg-Us_0"
      }
    }
  ],
  "metadata": {
    "colab": {
      "provenance": []
    },
    "kernelspec": {
      "display_name": "Python 3",
      "name": "python3"
    },
    "language_info": {
      "name": "python"
    }
  },
  "nbformat": 4,
  "nbformat_minor": 0
}