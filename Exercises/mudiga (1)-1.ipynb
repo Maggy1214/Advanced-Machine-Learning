{
  "nbformat": 4,
  "nbformat_minor": 0,
  "metadata": {
    "colab": {
      "provenance": []
    },
    "kernelspec": {
      "name": "python3",
      "display_name": "Python 3"
    },
    "language_info": {
      "name": "python"
    },
    "accelerator": "GPU",
    "gpuClass": "standard"
  },
  "cells": [
    {
      "cell_type": "markdown",
      "source": [
        "# Question 1\n",
        "\n",
        "Create a null vector of size 10 but the fifth value which is 1 "
      ],
      "metadata": {
        "id": "flU2wCdRjQor"
      }
    },
    {
      "cell_type": "code",
      "execution_count": 10,
      "metadata": {
        "id": "4_Uoc1F1ahJb",
        "colab": {
          "base_uri": "https://localhost:8080/"
        },
        "outputId": "3d76f935-e93d-49f5-f2d3-aecb2a295cdd"
      },
      "outputs": [
        {
          "output_type": "stream",
          "name": "stdout",
          "text": [
            "[0. 0. 0. 0. 1. 0. 0. 0. 0. 0.]\n"
          ]
        }
      ],
      "source": [
        "# Import the numpy package under the name np\n",
        "import numpy as np\n",
        "\n",
        "# you answer here\n",
        "\n",
        "vector = np.zeros(10)\n",
        "vector[4] = 1\n",
        "\n",
        "print(vector)"
      ]
    },
    {
      "cell_type": "markdown",
      "source": [
        "# Question 2\n",
        "\n",
        "Create a 10x10 array with random values and find the  maximum values"
      ],
      "metadata": {
        "id": "i2gYdA3DkOEB"
      }
    },
    {
      "cell_type": "code",
      "source": [
        "# Import the numpy package under the name np\n",
        "import numpy as np\n",
        "\n",
        "# you answer here\n",
        "\n",
        "\n",
        "arr = np.random.rand(10, 10)\n",
        "max_value = np.amax(arr)\n",
        "\n",
        "print(arr)\n",
        "print(\"Maximum Value:\", max_value)"
      ],
      "metadata": {
        "id": "S8JNfYIFkD7T",
        "colab": {
          "base_uri": "https://localhost:8080/"
        },
        "outputId": "c6121b44-20fe-4d25-be8f-52cff26c6c3a"
      },
      "execution_count": 11,
      "outputs": [
        {
          "output_type": "stream",
          "name": "stdout",
          "text": [
            "[[0.03792198 0.81759825 0.39223678 0.22872413 0.38040209 0.70139485\n",
            "  0.32945647 0.92363588 0.76164738 0.15269223]\n",
            " [0.10657218 0.42271869 0.24202474 0.48905514 0.04739267 0.49598887\n",
            "  0.0027556  0.93904437 0.5352733  0.42973311]\n",
            " [0.48489502 0.94638735 0.90685256 0.85539113 0.40609472 0.48406652\n",
            "  0.9885009  0.33260757 0.30805513 0.76273045]\n",
            " [0.63008636 0.17204866 0.49964245 0.18456014 0.83115597 0.74243081\n",
            "  0.55681166 0.23278122 0.6655072  0.68424535]\n",
            " [0.92841935 0.94044792 0.19806796 0.17417758 0.94708531 0.76497938\n",
            "  0.68623644 0.7128853  0.7811074  0.96037942]\n",
            " [0.6532893  0.34345507 0.38952382 0.67634254 0.90450764 0.66395567\n",
            "  0.42454156 0.56527731 0.25860646 0.14639816]\n",
            " [0.89613228 0.93150427 0.55575527 0.23924092 0.15803457 0.74467468\n",
            "  0.15062425 0.37988021 0.45526818 0.42364342]\n",
            " [0.83865877 0.64267783 0.28473201 0.22774505 0.5377928  0.77207659\n",
            "  0.9483041  0.5802514  0.05127379 0.21854286]\n",
            " [0.78914953 0.85155869 0.26513944 0.04334058 0.82177774 0.93210195\n",
            "  0.91418546 0.41582833 0.05726162 0.41621509]\n",
            " [0.00945985 0.78521636 0.70967262 0.06131965 0.25161138 0.36221163\n",
            "  0.09156454 0.6704527  0.07612116 0.87095557]]\n",
            "Maximum Value: 0.9885008973864937\n"
          ]
        }
      ]
    },
    {
      "cell_type": "markdown",
      "source": [
        "# Question 3\n",
        "\n",
        "How to add a border (filled with 0's) around the following existing array? The end results should be a matrix of 7 x 7 matrix with all 0's along the four boarders. \n",
        "\n"
      ],
      "metadata": {
        "id": "ku3f8iR9kVJJ"
      }
    },
    {
      "cell_type": "code",
      "source": [
        "import numpy as np\n",
        "\n",
        "existing_array = np.array([[1, 2, 3], [4, 5, 6], [7, 8, 9]])\n",
        "\n",
        "new_array = np.pad(existing_array, pad_width=1, mode='constant', constant_values=0)\n",
        "\n",
        "print(\"Existing Array:\")\n",
        "print(existing_array)\n",
        "print(\"Array with Border:\")\n",
        "print(new_array)"
      ],
      "metadata": {
        "id": "dZI6drEiF39-",
        "outputId": "2a24082e-e163-4faf-e96d-0a797d9639fa",
        "colab": {
          "base_uri": "https://localhost:8080/"
        }
      },
      "execution_count": 13,
      "outputs": [
        {
          "output_type": "stream",
          "name": "stdout",
          "text": [
            "Existing Array:\n",
            "[[1 2 3]\n",
            " [4 5 6]\n",
            " [7 8 9]]\n",
            "Array with Border:\n",
            "[[0 0 0 0 0]\n",
            " [0 1 2 3 0]\n",
            " [0 4 5 6 0]\n",
            " [0 7 8 9 0]\n",
            " [0 0 0 0 0]]\n"
          ]
        }
      ]
    }
  ]
}