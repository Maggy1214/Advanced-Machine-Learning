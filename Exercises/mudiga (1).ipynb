{
  "nbformat": 4,
  "nbformat_minor": 0,
  "metadata": {
    "colab": {
      "provenance": []
    },
    "kernelspec": {
      "name": "python3",
      "display_name": "Python 3"
    },
    "language_info": {
      "name": "python"
    }
  },
  "cells": [
    {
      "cell_type": "markdown",
      "source": [
        "# Question\n",
        "\n",
        "Write a Python program which iterates through integers from `1` to `50` (using a `for` loop). For an integer that is even, `append` it to the list `even_numbers`. For an integer that is odd, `append` it the list `odd_numbers`."
      ],
      "metadata": {
        "id": "VOWDrDp9qHG2"
      }
    },
    {
      "cell_type": "code",
      "source": [
        "# Your answer here\n",
        "Even_Num = []\n",
        "Odd_Num = []\n",
        "\n",
        "for i in range(1, 51):\n",
        "    if i % 2 == 0:\n",
        "        Even_Num.append(i)\n",
        "    else:\n",
        "        Odd_Num.append(i)\n",
        "\n",
        "print(\"Even Numbers:\", Even_Num)\n",
        "print(\"Odd Numbers:\", Odd_Num)"
      ],
      "metadata": {
        "id": "Xt-vnYlGqowr",
        "colab": {
          "base_uri": "https://localhost:8080/"
        },
        "outputId": "eedb2799-8239-4aa4-e36b-5248cee9317d"
      },
      "execution_count": 4,
      "outputs": [
        {
          "output_type": "stream",
          "name": "stdout",
          "text": [
            "Even Numbers: [2, 4, 6, 8, 10, 12, 14, 16, 18, 20, 22, 24, 26, 28, 30, 32, 34, 36, 38, 40, 42, 44, 46, 48, 50]\n",
            "Odd Numbers: [1, 3, 5, 7, 9, 11, 13, 15, 17, 19, 21, 23, 25, 27, 29, 31, 33, 35, 37, 39, 41, 43, 45, 47, 49]\n"
          ]
        }
      ]
    }
  ]
}