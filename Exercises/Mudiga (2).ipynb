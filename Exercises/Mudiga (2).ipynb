{
  "nbformat": 4,
  "nbformat_minor": 0,
  "metadata": {
    "colab": {
      "provenance": []
    },
    "kernelspec": {
      "name": "python3",
      "display_name": "Python 3"
    },
    "language_info": {
      "name": "python"
    }
  },
  "cells": [
    {
      "cell_type": "markdown",
      "source": [
        "Seaborn’s load_dataset function allows us to load sample data, and head() will show us the first few rows. "
      ],
      "metadata": {
        "id": "UAqTE8Wjf6eT"
      }
    },
    {
      "cell_type": "code",
      "execution_count": 13,
      "metadata": {
        "colab": {
          "base_uri": "https://localhost:8080/"
        },
        "id": "xINj9fPNeRg8",
        "outputId": "7c44f1fd-3ad2-4290-d98d-42e8dae70ca4"
      },
      "outputs": [
        {
          "output_type": "execute_result",
          "data": {
            "text/plain": [
              "Index(['pickup', 'dropoff', 'passengers', 'distance', 'fare', 'tip', 'tolls',\n",
              "       'total', 'color', 'payment', 'pickup_zone', 'dropoff_zone',\n",
              "       'pickup_borough', 'dropoff_borough'],\n",
              "      dtype='object')"
            ]
          },
          "metadata": {},
          "execution_count": 13
        }
      ],
      "source": [
        "import seaborn as sb\n",
        "df = sb.load_dataset(\"taxis\")\n",
        "df.head()\n",
        "df.columns\n"
      ]
    },
    {
      "cell_type": "markdown",
      "source": [
        "## Selecting Rows and Columns\n",
        "\n",
        "### Question 1. \n",
        "Select only the pickup column and display the column"
      ],
      "metadata": {
        "id": "xhIYgyKDes7S"
      }
    },
    {
      "cell_type": "code",
      "source": [
        "# Your answer here\n",
        "pickup= df[\"pickup\"]\n",
        "print(pickup)"
      ],
      "metadata": {
        "id": "xo9PuFQBetza",
        "colab": {
          "base_uri": "https://localhost:8080/"
        },
        "outputId": "d5698feb-4abd-40a1-9dea-16c361666039"
      },
      "execution_count": 14,
      "outputs": [
        {
          "output_type": "stream",
          "name": "stdout",
          "text": [
            "0       2019-03-23 20:21:09\n",
            "1       2019-03-04 16:11:55\n",
            "2       2019-03-27 17:53:01\n",
            "3       2019-03-10 01:23:59\n",
            "4       2019-03-30 13:27:42\n",
            "               ...         \n",
            "6428    2019-03-31 09:51:53\n",
            "6429    2019-03-31 17:38:00\n",
            "6430    2019-03-23 22:55:18\n",
            "6431    2019-03-04 10:09:25\n",
            "6432    2019-03-13 19:31:22\n",
            "Name: pickup, Length: 6433, dtype: object\n"
          ]
        }
      ]
    },
    {
      "cell_type": "markdown",
      "source": [
        "selected the \"pickup\" column using indexing and display it using the print() function."
      ],
      "metadata": {
        "id": "2Kj0q3UyCzyw"
      }
    },
    {
      "cell_type": "markdown",
      "source": [
        "### Question 2.\n",
        "Select three columns (distance, fare, tip) and display"
      ],
      "metadata": {
        "id": "8fKLXVF-e5U6"
      }
    },
    {
      "cell_type": "code",
      "source": [
        "# Your answer here\n",
        "selected_columns = df[[\"distance\", \"fare\", \"tip\"]]\n",
        "print(selected_columns)"
      ],
      "metadata": {
        "id": "wT3Ch6fVfI0J",
        "colab": {
          "base_uri": "https://localhost:8080/"
        },
        "outputId": "5739de6f-30c7-4d45-81fc-3a1efa506900"
      },
      "execution_count": 15,
      "outputs": [
        {
          "output_type": "stream",
          "name": "stdout",
          "text": [
            "      distance  fare   tip\n",
            "0         1.60   7.0  2.15\n",
            "1         0.79   5.0  0.00\n",
            "2         1.37   7.5  2.36\n",
            "3         7.70  27.0  6.15\n",
            "4         2.16   9.0  1.10\n",
            "...        ...   ...   ...\n",
            "6428      0.75   4.5  1.06\n",
            "6429     18.74  58.0  0.00\n",
            "6430      4.14  16.0  0.00\n",
            "6431      1.12   6.0  0.00\n",
            "6432      3.85  15.0  3.36\n",
            "\n",
            "[6433 rows x 3 columns]\n"
          ]
        }
      ]
    },
    {
      "cell_type": "markdown",
      "source": [
        "Selected three columns (\"distance\", \"fare\", and \"tip\") using indexing and display them using the print() function."
      ],
      "metadata": {
        "id": "Pao4WvpMC-wm"
      }
    },
    {
      "cell_type": "markdown",
      "source": [
        "### Question 3.\n",
        "Select rows with more than one rider in the cab (note: passenger column records the number of riders)"
      ],
      "metadata": {
        "id": "v83sB4WffOCy"
      }
    },
    {
      "cell_type": "code",
      "source": [
        "# Your answer here\n",
        "rows_with_multiple_riders = df[df[\"passengers\"] > 1]\n",
        "print(rows_with_multiple_riders)"
      ],
      "metadata": {
        "id": "ZpdeGbFsfZTy",
        "colab": {
          "base_uri": "https://localhost:8080/"
        },
        "outputId": "fcec962c-f4a7-4582-f98c-d903a1a2b4a6"
      },
      "execution_count": 16,
      "outputs": [
        {
          "output_type": "stream",
          "name": "stdout",
          "text": [
            "                   pickup              dropoff  passengers  distance  fare  \\\n",
            "4     2019-03-30 13:27:42  2019-03-30 13:37:14           3      2.16   9.0   \n",
            "15    2019-03-16 17:53:34  2019-03-16 18:13:57           3      2.09  13.5   \n",
            "19    2019-03-25 22:04:25  2019-03-25 22:11:30           6      1.08   6.5   \n",
            "23    2019-03-04 12:15:39  2019-03-04 12:26:53           5      1.09   8.5   \n",
            "24    2019-03-24 09:53:28  2019-03-24 10:01:22           5      2.89   9.5   \n",
            "...                   ...                  ...         ...       ...   ...   \n",
            "6412  2019-03-20 17:33:25  2019-03-20 17:42:48           5      1.40   8.0   \n",
            "6414  2019-03-30 14:04:46  2019-03-30 14:18:58           2      2.60  11.0   \n",
            "6417  2019-03-10 12:10:45  2019-03-10 12:43:05           2     11.17  35.0   \n",
            "6420  2019-03-16 15:39:23  2019-03-16 15:46:18           2      1.20   7.0   \n",
            "6421  2019-03-24 09:07:15  2019-03-24 09:36:45           6     10.23  33.0   \n",
            "\n",
            "       tip  tolls  total   color      payment                    pickup_zone  \\\n",
            "4     1.10   0.00  13.40  yellow  credit card                   Midtown East   \n",
            "15    0.00   0.00  16.80  yellow         cash          Upper West Side North   \n",
            "19    1.08   0.00  11.38  yellow  credit card                   East Chelsea   \n",
            "23    2.36   0.00  14.16  yellow  credit card  Sutton Place/Turtle Bay North   \n",
            "24    3.84   0.00  16.64  yellow  credit card                Lenox Hill West   \n",
            "...    ...    ...    ...     ...          ...                            ...   \n",
            "6412  0.00   0.00   9.80   green         cash               Brooklyn Heights   \n",
            "6414  2.91   0.00  17.46   green  credit card                 Central Harlem   \n",
            "6417  0.00   5.76  41.56   green  credit card              Hillcrest/Pomonok   \n",
            "6420  0.00   0.00   7.80   green         cash                 Central Harlem   \n",
            "6421  0.00   0.00  33.80   green  credit card         East Flatbush/Farragut   \n",
            "\n",
            "               dropoff_zone pickup_borough dropoff_borough  \n",
            "4            Yorkville West      Manhattan       Manhattan  \n",
            "15             Clinton East      Manhattan       Manhattan  \n",
            "19             East Chelsea      Manhattan       Manhattan  \n",
            "23            Midtown North      Manhattan       Manhattan  \n",
            "24                 Gramercy      Manhattan       Manhattan  \n",
            "...                     ...            ...             ...  \n",
            "6412            Fort Greene       Brooklyn        Brooklyn  \n",
            "6414         Yorkville West      Manhattan       Manhattan  \n",
            "6417               Flatiron         Queens       Manhattan  \n",
            "6420  Upper West Side North      Manhattan       Manhattan  \n",
            "6421       South Ozone Park       Brooklyn          Queens  \n",
            "\n",
            "[1659 rows x 14 columns]\n"
          ]
        }
      ]
    },
    {
      "cell_type": "markdown",
      "source": [
        "Used Boolean indexing to select only the rows where the \"passengers\" column is greater than 1, indicating that there were multiple riders in the cab. We then display these rows using the print() function."
      ],
      "metadata": {
        "id": "ZKH9QQ8BDG9M"
      }
    }
  ]
}