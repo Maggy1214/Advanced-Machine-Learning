{
  "nbformat": 4,
  "nbformat_minor": 0,
  "metadata": {
    "colab": {
      "provenance": []
    },
    "kernelspec": {
      "name": "python3",
      "display_name": "Python 3"
    },
    "language_info": {
      "name": "python"
    }
  },
  "cells": [
    {
      "cell_type": "markdown",
      "source": [
        "## Question 1"
      ],
      "metadata": {
        "id": "HQnBsn72aMhk"
      }
    },
    {
      "cell_type": "code",
      "source": [
        "# Creating a list.\n",
        "s=[23,67, 90,\"meghana\", 100,450,785]\n",
        "for i in s:\n",
        "   print(i)"
      ],
      "metadata": {
        "colab": {
          "base_uri": "https://localhost:8080/"
        },
        "id": "7vm5rUUh9FDu",
        "outputId": "8e69b817-ff47-407e-c99c-9a05c7feb05f"
      },
      "execution_count": 1,
      "outputs": [
        {
          "output_type": "stream",
          "name": "stdout",
          "text": [
            "23\n",
            "67\n",
            "90\n",
            "meghana\n",
            "100\n",
            "450\n",
            "785\n"
          ]
        }
      ]
    },
    {
      "cell_type": "code",
      "source": [
        "# Finding count of the list.\n",
        "len(s)"
      ],
      "metadata": {
        "colab": {
          "base_uri": "https://localhost:8080/"
        },
        "id": "hv7dCPgp9k9c",
        "outputId": "ad887411-aab1-4f9b-d70d-e76dbd449456"
      },
      "execution_count": 2,
      "outputs": [
        {
          "output_type": "execute_result",
          "data": {
            "text/plain": [
              "7"
            ]
          },
          "metadata": {},
          "execution_count": 2
        }
      ]
    },
    {
      "cell_type": "markdown",
      "source": [
        "## Question 2\n"
      ],
      "metadata": {
        "id": "AxJ0YcNBavnQ"
      }
    },
    {
      "cell_type": "code",
      "source": [
        "# Creating a list.\n",
        "l=[12, 45,67,89,98,129,75674]"
      ],
      "metadata": {
        "id": "Qy8FLPWN-S63"
      },
      "execution_count": 3,
      "outputs": []
    },
    {
      "cell_type": "code",
      "source": [
        "# Finding Maximum Number from a List.\n",
        "max_number= max(l)\n",
        "print(max_number)"
      ],
      "metadata": {
        "colab": {
          "base_uri": "https://localhost:8080/"
        },
        "id": "W9DYz52p90gD",
        "outputId": "e711c752-f9f5-454a-efa5-f45ef4946f27"
      },
      "execution_count": 4,
      "outputs": [
        {
          "output_type": "stream",
          "name": "stdout",
          "text": [
            "75674\n"
          ]
        }
      ]
    }
  ]
}