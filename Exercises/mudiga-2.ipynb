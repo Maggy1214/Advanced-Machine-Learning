{
  "nbformat": 4,
  "nbformat_minor": 0,
  "metadata": {
    "colab": {
      "provenance": []
    },
    "kernelspec": {
      "name": "python3",
      "display_name": "Python 3"
    },
    "language_info": {
      "name": "python"
    }
  },
  "cells": [
    {
      "cell_type": "code",
      "source": [
        "import pandas as pd\n",
        "import numpy as np\n",
        "\n",
        "df = pd.DataFrame(np.arange(25).reshape(5,-1), columns=list('abcde'))\n",
        "\n",
        "one_hot_df = pd.get_dummies(df['a'], prefix='a')\n",
        "\n",
        "mu = pd.concat([df, one_hot_df], axis=1)\n",
        "\n",
        "print(mu)"
      ],
      "metadata": {
        "colab": {
          "base_uri": "https://localhost:8080/"
        },
        "id": "x-t5HJx8C9_e",
        "outputId": "9515a98b-3e6c-40c6-c052-9e959db1dc34"
      },
      "execution_count": 2,
      "outputs": [
        {
          "output_type": "stream",
          "name": "stdout",
          "text": [
            "    a   b   c   d   e  a_0  a_5  a_10  a_15  a_20\n",
            "0   0   1   2   3   4    1    0     0     0     0\n",
            "1   5   6   7   8   9    0    1     0     0     0\n",
            "2  10  11  12  13  14    0    0     1     0     0\n",
            "3  15  16  17  18  19    0    0     0     1     0\n",
            "4  20  21  22  23  24    0    0     0     0     1\n"
          ]
        }
      ]
    }
  ]
}